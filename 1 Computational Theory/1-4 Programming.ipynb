{
 "cells": [
  {
   "cell_type": "markdown",
   "metadata": {},
   "source": [
    "## Syntax and semantics"
   ]
  },
  {
   "cell_type": "code",
   "execution_count": 1,
   "metadata": {},
   "outputs": [
    {
     "ename": "SyntaxError",
     "evalue": "invalid syntax (<ipython-input-1-e338441e8f84>, line 2)",
     "output_type": "error",
     "traceback": [
      "\u001b[1;36m  File \u001b[1;32m\"<ipython-input-1-e338441e8f84>\"\u001b[1;36m, line \u001b[1;32m2\u001b[0m\n\u001b[1;33m    if n < 0\u001b[0m\n\u001b[1;37m            ^\u001b[0m\n\u001b[1;31mSyntaxError\u001b[0m\u001b[1;31m:\u001b[0m invalid syntax\n"
     ]
    }
   ],
   "source": [
    "#syntax error\n",
    "n = 1\n",
    "if n < 0\n",
    "    print(n)"
   ]
  },
  {
   "cell_type": "code",
   "execution_count": 2,
   "metadata": {},
   "outputs": [
    {
     "name": "stdout",
     "output_type": "stream",
     "text": [
      "n+m < 4\n"
     ]
    }
   ],
   "source": [
    "#semantic error\n",
    "n = 2\n",
    "m = 3\n",
    "print('n+m < 4')"
   ]
  },
  {
   "cell_type": "markdown",
   "metadata": {},
   "source": [
    "## Variables and data type"
   ]
  },
  {
   "cell_type": "code",
   "execution_count": 23,
   "metadata": {},
   "outputs": [
    {
     "name": "stdout",
     "output_type": "stream",
     "text": [
      "<class 'int'>\n",
      "<class 'float'>\n",
      "<class 'complex'>\n"
     ]
    }
   ],
   "source": [
    "#Numeric Types-integer/float/complex\n",
    "n1=10\n",
    "n2=10.05\n",
    "n3=10.05+5.1j\n",
    "print(type(n1))\n",
    "print(type(n2))\n",
    "print(type(n3))"
   ]
  },
  {
   "cell_type": "code",
   "execution_count": 25,
   "metadata": {},
   "outputs": [
    {
     "name": "stdout",
     "output_type": "stream",
     "text": [
      "<class 'str'>\n",
      "<class 'str'>\n",
      "m a\n"
     ]
    }
   ],
   "source": [
    "#Text Type-str:\n",
    "s1=\"I'm a string!!\"\n",
    "s2='Im a string too!!'\n",
    "print(type(s1))\n",
    "print(type(s2))\n",
    "\n",
    "#string slice\n",
    "print(s1[2:5])"
   ]
  },
  {
   "cell_type": "code",
   "execution_count": 39,
   "metadata": {},
   "outputs": [
    {
     "name": "stdout",
     "output_type": "stream",
     "text": [
      "<class 'bool'>\n",
      "False\n",
      "False\n",
      "False\n",
      "False\n",
      "True\n",
      "True\n",
      "True\n"
     ]
    }
   ],
   "source": [
    "#Boolean Type-bool:\n",
    "x=True\n",
    "print(type(x))\n",
    "\n",
    "#bool() Function\n",
    "print(bool(0))\n",
    "print(bool([]))\n",
    "print(bool(None))\n",
    "print(bool(3>10))\n",
    "\n",
    "print(bool(3.1415926))\n",
    "print(bool(1))\n",
    "print(bool(2==10-8))"
   ]
  },
  {
   "cell_type": "code",
   "execution_count": 58,
   "metadata": {},
   "outputs": [
    {
     "name": "stdout",
     "output_type": "stream",
     "text": [
      "a\n",
      "<class 'str'>\n",
      "1\n",
      "<class 'int'>\n",
      "aabb\n",
      "<class 'str'>\n",
      "3.14\n",
      "<class 'float'>\n",
      "['a', 'b', 'c', 'd']\n",
      "<class 'list'>\n",
      "a\n",
      "['a', 'aabb']\n",
      "['a', 1, 'aabb', 'g', ['a', 'b', 'c', 'd']]\n",
      "['a', 1, 2, 3, 'g', ['a', 'b', 'c', 'd']]\n",
      "['a']\n"
     ]
    }
   ],
   "source": [
    "#Sequence Types-list\n",
    "li_0=['a','b','c','d']\n",
    "li=['a',1,'aabb',3.14,li_0]\n",
    "\n",
    "#The elements in a list can be of different types\n",
    "for i in li:\n",
    "    print(i)\n",
    "    print(type(i))\n",
    "    \n",
    "#slicing strings   \n",
    "print(li_0[0])\n",
    "print(li[:-2:2])\n",
    "\n",
    "#Modify the elements in a list\n",
    "li[3]='g'\n",
    "print(li)\n",
    "li[2:3]=[2,3]\n",
    "print(li)\n",
    "li[1:6]=[]\n",
    "print(li)"
   ]
  },
  {
   "cell_type": "code",
   "execution_count": 63,
   "metadata": {},
   "outputs": [
    {
     "name": "stdout",
     "output_type": "stream",
     "text": [
      "<class 'tuple'>\n",
      "(2.45, [1, 2, 3], 'h_3')\n"
     ]
    },
    {
     "ename": "TypeError",
     "evalue": "'tuple' object does not support item assignment",
     "output_type": "error",
     "traceback": [
      "\u001b[1;31m---------------------------------------------------------------------------\u001b[0m",
      "\u001b[1;31mTypeError\u001b[0m                                 Traceback (most recent call last)",
      "\u001b[1;32m<ipython-input-63-db4650108702>\u001b[0m in \u001b[0;36m<module>\u001b[1;34m()\u001b[0m\n\u001b[0;32m      5\u001b[0m \u001b[0mprint\u001b[0m\u001b[1;33m(\u001b[0m\u001b[0mtu\u001b[0m\u001b[1;33m[\u001b[0m\u001b[1;36m2\u001b[0m\u001b[1;33m:\u001b[0m\u001b[1;36m5\u001b[0m\u001b[1;33m]\u001b[0m\u001b[1;33m)\u001b[0m\u001b[1;33m\u001b[0m\u001b[0m\n\u001b[0;32m      6\u001b[0m \u001b[1;31m#Elements in tuple cannot be modified\u001b[0m\u001b[1;33m\u001b[0m\u001b[1;33m\u001b[0m\u001b[0m\n\u001b[1;32m----> 7\u001b[1;33m \u001b[0mtu\u001b[0m\u001b[1;33m[\u001b[0m\u001b[1;36m2\u001b[0m\u001b[1;33m]\u001b[0m\u001b[1;33m=\u001b[0m\u001b[1;36m2\u001b[0m\u001b[1;33m\u001b[0m\u001b[0m\n\u001b[0m",
      "\u001b[1;31mTypeError\u001b[0m: 'tuple' object does not support item assignment"
     ]
    }
   ],
   "source": [
    "#Sequence Types-tuple\n",
    "tu = ('abcd','efg',2.45,[1,2,3],'h_3')\n",
    "print(type(tu))\n",
    "print(tu[2:5])\n",
    "\n",
    "#Elements in tuple cannot be modified\n",
    "tu[2]=2\n",
    "\n"
   ]
  },
  {
   "cell_type": "code",
   "execution_count": 86,
   "metadata": {},
   "outputs": [
    {
     "name": "stdout",
     "output_type": "stream",
     "text": [
      "<class 'dict'>\n",
      "ship_a\n",
      "{'name': 'ship_a', 'color': 'green', 'code': 1, 'speed': 'high'}\n",
      "{'name': 'ship_a', 'color': 'red', 'code': 3, 'speed': 'high'}\n",
      "\n",
      "key: name\n",
      "value: ship_a\n",
      "\n",
      "key: color\n",
      "value: red\n",
      "\n",
      "key: code\n",
      "value: 3\n",
      "\n",
      "key: speed\n",
      "value: high\n"
     ]
    }
   ],
   "source": [
    "#Mapping Type-dict\n",
    "di={'name':'ship_a','color':'green','code':1}\n",
    "print(type(di))\n",
    "print(di['name'])\n",
    "\n",
    "#Adding key-value pairs to a dictionary\n",
    "di['speed']='high'\n",
    "print(di)\n",
    "\n",
    "#modify values in a dictionary\n",
    "di['color']='red'\n",
    "di['code']=3\n",
    "print(di)\n",
    "\n",
    "#Iterate over all keys and values in the dictionary\n",
    "for key in di.keys():\n",
    "    print('\\nkey: '+str(key))\n",
    "    print('value: '+ str(di[key]))"
   ]
  },
  {
   "cell_type": "code",
   "execution_count": 1,
   "metadata": {},
   "outputs": [
    {
     "name": "stdout",
     "output_type": "stream",
     "text": [
      "<class 'set'>\n",
      "<class 'set'>\n",
      "{'Google', 'Yahoo', 'Baidu', 'Facebook'}\n",
      "Google is in the set\n"
     ]
    }
   ],
   "source": [
    "#Set Type-set:\n",
    "sites={'Google','Yahoo','Baidu','Facebook','Baidu'}\n",
    "apps=set('Facebook')\n",
    "print(type(sites))\n",
    "print(type(apps))\n",
    "\n",
    "#Duplicate elements are automatically removed in a set\n",
    "print(sites)\n",
    "\n",
    "#Member testing\n",
    "if 'Google' in sites:\n",
    "    print('Google is in the set')\n",
    "else:\n",
    "    print('Google isn`t in the set')\n",
    "    "
   ]
  },
  {
   "cell_type": "markdown",
   "metadata": {},
   "source": [
    "## Conditions"
   ]
  },
  {
   "cell_type": "code",
   "execution_count": 102,
   "metadata": {},
   "outputs": [
    {
     "name": "stdout",
     "output_type": "stream",
     "text": [
      "Please input a number5\n",
      "The number is a positive integer.\n"
     ]
    }
   ],
   "source": [
    "#if statement\n",
    "a= float(input('Please input a number'))\n",
    "\n",
    "if a>0:\n",
    "    if a%1==0:\n",
    "        print(\"The number is a positive integer.\")\n",
    "    else:\n",
    "        print('The number is a positive number')\n",
    "elif a==0:\n",
    "    print('The number is 0')\n",
    "else:\n",
    "    print('The number is a ngative numbers')\n",
    "    \n",
    "\n"
   ]
  },
  {
   "cell_type": "markdown",
   "metadata": {},
   "source": [
    "## Loops"
   ]
  },
  {
   "cell_type": "code",
   "execution_count": 109,
   "metadata": {},
   "outputs": [
    {
     "name": "stdout",
     "output_type": "stream",
     "text": [
      "143\n",
      "143\n"
     ]
    }
   ],
   "source": [
    "#loops\n",
    "fibonacci=[1,1,2,3,5,8,13,21,34,55]\n",
    "\n",
    "#print the sum of the first 10 terms of the Fibonacci sequence\n",
    "#while loops:\n",
    "i=0\n",
    "sum_1=0\n",
    "while i<10:\n",
    "    sum_1+=fibonacci[i]\n",
    "    i+=1\n",
    "print(sum_1)\n",
    "\n",
    "#for loops:\n",
    "sum_2=0\n",
    "for i in range(0,10):\n",
    "    sum_2+=fibonacci[i]\n",
    "print(sum_2)"
   ]
  },
  {
   "cell_type": "markdown",
   "metadata": {},
   "source": [
    "## Functions"
   ]
  },
  {
   "cell_type": "code",
   "execution_count": 7,
   "metadata": {},
   "outputs": [],
   "source": [
    "#Create a function\n",
    "def name_abbreviation_1():\n",
    "    first = input('please input the first name')\n",
    "    last = input('please input the last name')\n",
    "    ab = first[0]+last[0]\n",
    "    return ab\n",
    "    \n",
    "#argument\n",
    "def name_abbreviation_2(first, last):\n",
    "    ab = first[0]+last[0]\n",
    "    return ab"
   ]
  },
  {
   "cell_type": "code",
   "execution_count": 8,
   "metadata": {},
   "outputs": [
    {
     "name": "stdout",
     "output_type": "stream",
     "text": [
      "please input the first nameMing\n",
      "please input the last nameLi\n"
     ]
    },
    {
     "data": {
      "text/plain": [
       "'ML'"
      ]
     },
     "execution_count": 8,
     "metadata": {},
     "output_type": "execute_result"
    }
   ],
   "source": [
    "#call a function\n",
    "name_abbreviation_1()"
   ]
  },
  {
   "cell_type": "code",
   "execution_count": 9,
   "metadata": {},
   "outputs": [
    {
     "data": {
      "text/plain": [
       "'ML'"
      ]
     },
     "execution_count": 9,
     "metadata": {},
     "output_type": "execute_result"
    }
   ],
   "source": [
    "name_abbreviation_2('Ming','Li')"
   ]
  },
  {
   "cell_type": "markdown",
   "metadata": {},
   "source": [
    "### Python in-built function"
   ]
  },
  {
   "cell_type": "code",
   "execution_count": 11,
   "metadata": {},
   "outputs": [
    {
     "name": "stdout",
     "output_type": "stream",
     "text": [
      "Hello world\n"
     ]
    }
   ],
   "source": [
    "#print():Prints to the standard output device\n",
    "print('Hello world')"
   ]
  },
  {
   "cell_type": "code",
   "execution_count": 13,
   "metadata": {},
   "outputs": [
    {
     "name": "stdout",
     "output_type": "stream",
     "text": [
      "4\n"
     ]
    }
   ],
   "source": [
    "#abs()：Returns the absolute value of a number\n",
    "a = abs(4-8)\n",
    "print(a)"
   ]
  },
  {
   "cell_type": "code",
   "execution_count": 3,
   "metadata": {},
   "outputs": [
    {
     "data": {
      "text/plain": [
       "False"
      ]
     },
     "execution_count": 3,
     "metadata": {},
     "output_type": "execute_result"
    }
   ],
   "source": [
    "#bool():Returns the boolean value of the specified object\n",
    "bool(0)"
   ]
  },
  {
   "cell_type": "code",
   "execution_count": 20,
   "metadata": {},
   "outputs": [
    {
     "name": "stdout",
     "output_type": "stream",
     "text": [
      "0\n",
      "adamas\n",
      "1\n",
      "Arche en Seine\n",
      "2\n",
      "cb16-cgi\n",
      "3\n",
      "coeur-defense\n"
     ]
    }
   ],
   "source": [
    "#enumerate():Takes a collectionand returns it as an enumerate object\n",
    "li = ['adamas','Arche en Seine','cb16-cgi','coeur-defense']\n",
    "for number,building in enumerate(di):\n",
    "    print(number)\n",
    "    print(building)"
   ]
  },
  {
   "cell_type": "code",
   "execution_count": 22,
   "metadata": {},
   "outputs": [
    {
     "name": "stdout",
     "output_type": "stream",
     "text": [
      "2.0\n",
      "5\n"
     ]
    }
   ],
   "source": [
    "#float():Returns a floating point number\n",
    "#int():Returns an integer number\n",
    "print(float(2))\n",
    "print(int(5.5))"
   ]
  },
  {
   "cell_type": "code",
   "execution_count": 26,
   "metadata": {},
   "outputs": [
    {
     "name": "stdout",
     "output_type": "stream",
     "text": [
      "cb16-cgi\n"
     ]
    }
   ],
   "source": [
    "#format():Formats a specified value\n",
    "a = '{}-{}'.format('cb16','cgi')\n",
    "print(a)"
   ]
  },
  {
   "cell_type": "code",
   "execution_count": 31,
   "metadata": {},
   "outputs": [
    {
     "name": "stdout",
     "output_type": "stream",
     "text": [
      "Please input your name Tom\n"
     ]
    }
   ],
   "source": [
    "#input():Allowing user input\n",
    "name = input('Please input your name ')"
   ]
  },
  {
   "cell_type": "code",
   "execution_count": 50,
   "metadata": {},
   "outputs": [
    {
     "name": "stdout",
     "output_type": "stream",
     "text": [
      "<list_iterator object at 0x00000234B1EB57F0>\n",
      "adamas\n",
      "Arche en Seine\n"
     ]
    }
   ],
   "source": [
    "#iter():Returns an iterator object\n",
    "#next():Returns the next item in an iterable\n",
    "li = ['adamas','Arche en Seine','cb16-cgi','coeur-defense']\n",
    "i = iter(li)\n",
    "print(i)\n",
    "print(next(i))\n",
    "print(next(i))\n",
    "\n"
   ]
  },
  {
   "cell_type": "code",
   "execution_count": 44,
   "metadata": {},
   "outputs": [
    {
     "name": "stdout",
     "output_type": "stream",
     "text": [
      "4\n",
      "6\n"
     ]
    }
   ],
   "source": [
    "#len():Returns the length of an object\n",
    "li = ['adamas','Arche en Seine','cb16-cgi','coeur-defense']\n",
    "print(len(li))   #print the length of this list\n",
    "print(len(li[0]))   #print the length of the first element of the list"
   ]
  },
  {
   "cell_type": "code",
   "execution_count": 68,
   "metadata": {},
   "outputs": [
    {
     "name": "stdout",
     "output_type": "stream",
     "text": [
      "coeur-defense\n",
      "1\n"
     ]
    }
   ],
   "source": [
    "#max():Returns the largest item in an iterable\n",
    "#min():Returns the smallest item in an iterable\n",
    "li = ['adamas','Arche en Seine','cb16-cgi','coeur-defense']\n",
    "print(max(li))\n",
    "li_num = [2,3,6,3,7,2,1]\n",
    "print(min(li_num))"
   ]
  },
  {
   "cell_type": "markdown",
   "metadata": {},
   "source": [
    "## Class"
   ]
  },
  {
   "cell_type": "code",
   "execution_count": 5,
   "metadata": {},
   "outputs": [],
   "source": [
    "class Car():\n",
    "    \n",
    "    def __init__(self, name, year,color):\n",
    "        #Initialisation of the properties describing the car\n",
    "        self.name = name\n",
    "        self.color = color\n",
    "        self.year=year\n",
    "        self.odometer_reading=0\n",
    "        \n",
    "    def get_descriptive_name(self):\n",
    "        #Return descriptive information\n",
    "        long_name=str(self.year)+\" \"+self.color+\" \"+self.name\n",
    "        return long_name.title()\n",
    "\n",
    "        \n",
    "    def read_odometer(self):\n",
    "        #Print a message indicating the mileage of the car.\n",
    "        print(\"This car has \" + str(self.odometer_reading) + \" miles on it.\")\n",
    "\n",
    "    def increment_odometer(self,miles):\n",
    "        #Increase the odometer reading by a specified amount\n",
    "        self.odometer_reading += miles\n"
   ]
  },
  {
   "cell_type": "code",
   "execution_count": 6,
   "metadata": {},
   "outputs": [
    {
     "name": "stdout",
     "output_type": "stream",
     "text": [
      "2016 Red Audi\n",
      "2000 White Audi\n",
      "This car has 20 miles on it.\n"
     ]
    }
   ],
   "source": [
    "#object: an instance of a class\n",
    "car_1 = Car('audi',2016,'red')\n",
    "car_2 = Car('tesla', 2020, 'black')\n",
    "car_3 = Car('audi',2000, 'white')\n",
    "print(car_1.get_descriptive_name())\n",
    "print(car_3.get_descriptive_name())\n",
    "car_2.increment_odometer(20)\n",
    "car_2.read_odometer()"
   ]
  },
  {
   "cell_type": "code",
   "execution_count": null,
   "metadata": {},
   "outputs": [],
   "source": []
  }
 ],
 "metadata": {
  "kernelspec": {
   "display_name": "Python 3",
   "language": "python",
   "name": "python3"
  },
  "language_info": {
   "codemirror_mode": {
    "name": "ipython",
    "version": 3
   },
   "file_extension": ".py",
   "mimetype": "text/x-python",
   "name": "python",
   "nbconvert_exporter": "python",
   "pygments_lexer": "ipython3",
   "version": "3.7.0"
  }
 },
 "nbformat": 4,
 "nbformat_minor": 2
}
