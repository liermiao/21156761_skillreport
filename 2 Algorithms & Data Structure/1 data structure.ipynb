{
 "cells": [
  {
   "cell_type": "markdown",
   "metadata": {},
   "source": [
    "## Stack"
   ]
  },
  {
   "cell_type": "code",
   "execution_count": 20,
   "metadata": {},
   "outputs": [],
   "source": [
    "class Stack():\n",
    "    #Create an empty stack\n",
    "    def __init__(self):\n",
    "        self.stack= []\n",
    "        \n",
    "    #push\n",
    "    def push(self,element):  \n",
    "        self.stack.append(element)\n",
    "        \n",
    "    #pop\n",
    "    def pop(self):\n",
    "        return self.stack.pop()\n",
    "        \n",
    "    #gettop: returns the top item without removing it\n",
    "    def get_top(self):\n",
    "        if len(self.stack)>0:\n",
    "            return self.stack[-1]\n",
    "        else:\n",
    "            return None\n",
    "    \n",
    "    #Check whether the stack is empty\n",
    "    def is_empty(self):\n",
    "        return len(self.stack)==0\n",
    "    \n",
    "    #Returns the number of data items in the stack\n",
    "    def size(self):\n",
    "        return len(self.stack)"
   ]
  },
  {
   "cell_type": "code",
   "execution_count": 21,
   "metadata": {},
   "outputs": [
    {
     "name": "stdout",
     "output_type": "stream",
     "text": [
      "True\n",
      "True\n",
      "3\n",
      "False\n",
      "5\n",
      "2\n"
     ]
    }
   ],
   "source": [
    "s = Stack()\n",
    "print(s.is_empty())\n",
    "s.push('La Defense')\n",
    "s.push(True)\n",
    "print(s.get_top())\n",
    "s.push(5)\n",
    "print(s.size())\n",
    "print(s.is_empty())\n",
    "print(s.pop())\n",
    "print(s.size())"
   ]
  },
  {
   "cell_type": "markdown",
   "metadata": {},
   "source": [
    "## Queue"
   ]
  },
  {
   "cell_type": "code",
   "execution_count": 25,
   "metadata": {},
   "outputs": [],
   "source": [
    "class Queue():\n",
    "    def __init__(self):\n",
    "        self.queue = [ ]\n",
    "    \n",
    "    #Adds the data item to the end of the queue, with no return value\n",
    "    def enqueue(self,element):\n",
    "        self.queue.insert(0,element)\n",
    "    \n",
    "    #Removes an item from the head of the queue and returns it\n",
    "    def dequeue(self):\n",
    "        return self.queue.pop()\n",
    "    \n",
    "    #Check whether the queue is empty \n",
    "    def is_empty(self):\n",
    "        return len(self.queue) == 0\n",
    "   \n",
    "    #Returns the number of data items in the queue\n",
    "    def size(self):\n",
    "        return len(self.queue)    "
   ]
  },
  {
   "cell_type": "code",
   "execution_count": 31,
   "metadata": {},
   "outputs": [
    {
     "name": "stdout",
     "output_type": "stream",
     "text": [
      "True\n",
      "2\n",
      "4\n",
      "False\n"
     ]
    }
   ],
   "source": [
    "q = Queue()\n",
    "print(q.is_empty())\n",
    "q.enqueue(4)\n",
    "q.enqueue('La Defense')\n",
    "print(q.size())\n",
    "print(q.dequeue())\n",
    "print(q.is_empty())"
   ]
  },
  {
   "cell_type": "markdown",
   "metadata": {},
   "source": [
    "## Linked List"
   ]
  },
  {
   "cell_type": "code",
   "execution_count": 2,
   "metadata": {},
   "outputs": [],
   "source": [
    "class LinkList:\n",
    "    class Node:\n",
    "        def __init__(self,item=None):\n",
    "            self.item = item\n",
    "            self.next = None\n",
    "    \n",
    "    #Create empty linklist\n",
    "    def __init__(self):\n",
    "        self.head = None\n",
    "    \n",
    "    #Check whether the linklist is empty \n",
    "    def is_empty(self):\n",
    "        return self.head is None\n",
    "    \n",
    "    #Returns the length of the linklist\n",
    "    def length(self):\n",
    "        cur = self.head\n",
    "        n = 0\n",
    "        while cur is not None:\n",
    "            n += 1\n",
    "            cur = cur.next\n",
    "        return n\n",
    "        \n",
    "    #Adds an element from the head of the list\n",
    "    def append_head(self, element):\n",
    "        node = self.Node(element)\n",
    "        node.next = self.head\n",
    "        self.head = node\n",
    "        \n",
    "    #Adds an element from the tail of the list\n",
    "    def append_tail(self, element):\n",
    "        node = self.Node(element)\n",
    "        if self.is_empty():\n",
    "            self.head = node\n",
    "        else:\n",
    "            cur = self.head\n",
    "            while cur.next is not None:\n",
    "                cur = cur.next\n",
    "            cur.next = node\n",
    "    \n",
    "    #Insert the new element into the pos position\n",
    "    def insert(self, pos,element):\n",
    "        if pos <= 0:\n",
    "            self.append_head(element)\n",
    "        elif pos>self.length()-1:\n",
    "            self.append_tail(element)\n",
    "        else:\n",
    "            node = self.Node(element)\n",
    "            cur = self.head\n",
    "            n = 0\n",
    "            while n < pos-1:\n",
    "                n += 1\n",
    "                cur = cur.next\n",
    "            node.next = cur.next\n",
    "            cur.next = node\n",
    "    \n",
    "    #Delete all old element from a linklist\n",
    "    def remove(self,element):\n",
    "        cur = self.head\n",
    "        pre = None\n",
    "        while cur is not None:\n",
    "            if cur.item == element:\n",
    "                if not pre:\n",
    "                    self.head = cur.next\n",
    "                else:\n",
    "                    pre.next = cur.next\n",
    "                cur = cur.next\n",
    "            else:\n",
    "                pre = cur\n",
    "                cur = cur.next\n",
    "    \n",
    "    #Print the entire linklist from front to back\n",
    "    def print_linkList(self):\n",
    "        cur = self.head\n",
    "        li = []\n",
    "        while cur is not None:\n",
    "            li.append(cur.item)\n",
    "            cur = cur.next\n",
    "        return li\n",
    "    \n",
    "    #Search for element in the linklist\n",
    "    def search(self, element):\n",
    "        cur = self.head\n",
    "        while cur is not None:\n",
    "            if cur.item == element:\n",
    "                return True\n",
    "            else:\n",
    "                cur = cur.next\n",
    "        return False"
   ]
  },
  {
   "cell_type": "code",
   "execution_count": 3,
   "metadata": {},
   "outputs": [
    {
     "name": "stdout",
     "output_type": "stream",
     "text": [
      "True\n",
      "[5, 4, 3, 2, 1]\n",
      "False\n",
      "[False, 5, 'La Defense', 3, 2, 1]\n",
      "True\n"
     ]
    }
   ],
   "source": [
    "lk = LinkList()\n",
    "print(lk.is_empty())\n",
    "li = [1,2,3,4,5]\n",
    "for i in li:\n",
    "    lk.append_head(i)\n",
    "print(lk.print_linkList())\n",
    "lk.append_head(False)\n",
    "lk.insert(3,'La Defense')\n",
    "print(lk.is_empty())\n",
    "lk.remove(4)\n",
    "print(lk.print_linkList())\n",
    "print(lk.search(5))\n"
   ]
  },
  {
   "cell_type": "markdown",
   "metadata": {},
   "source": [
    "## Hash Table"
   ]
  },
  {
   "cell_type": "code",
   "execution_count": 60,
   "metadata": {},
   "outputs": [],
   "source": [
    "class LinkList:\n",
    "    class Node:\n",
    "        def __init__(self,item=None):\n",
    "            self.item = item\n",
    "            self.next =None\n",
    "            \n",
    "    class LinkListIterator:\n",
    "        def __init__(self,node):\n",
    "            self.node = node\n",
    "        def __next__(self):\n",
    "            if self.node:\n",
    "                cur_node = self.node\n",
    "                self.node = cur_node.next\n",
    "                return cur_node.item\n",
    "            else:\n",
    "                raise StopIteration\n",
    "        def __iter__(self):\n",
    "            return self\n",
    "        \n",
    "    def __init__(self,iterable=None):\n",
    "        self.head =None\n",
    "        self.tail=None\n",
    "        if iterable:\n",
    "            self.extend(iterable)\n",
    "            \n",
    "    def extend(self,iterable):\n",
    "        for obj in iterable:\n",
    "            self.append(obj)\n",
    "    def append(self,obj):\n",
    "        s=LinkList.Node(obj)\n",
    "        if not self.head:\n",
    "            self.head = s\n",
    "            self.tail = s\n",
    "        else:\n",
    "            self.tail.next = s\n",
    "            self.tail = s\n",
    "            \n",
    "    def find(self,obj):\n",
    "        for n in self:\n",
    "            if n == obj:\n",
    "                return True\n",
    "        else:\n",
    "            return False\n",
    "            \n",
    "    def __iter__(self):\n",
    "        return self.LinkListIterator(self.head)\n",
    "    \n",
    "    def __repr__(self):\n",
    "        return \"<<\"+','.join(map(str,self))+'>>'\n",
    "    \n",
    "class HashTable:\n",
    "    def __init__(self,size=101):\n",
    "        self.size=size\n",
    "        self.T =[LinkList() for i in range(self.size)]\n",
    "    \n",
    "    #Hash function \n",
    "    def h(self,k):\n",
    "        return k%self.size\n",
    "    \n",
    "    #Insert elements into the hash table\n",
    "    def insert(self,k):\n",
    "        i = self.h(k)\n",
    "        if self.find(k):\n",
    "            print('Duplicated Insert.')\n",
    "        else:\n",
    "            self.T[i].append(k)\n",
    "    \n",
    "    #Search element in the hash table\n",
    "    def find(self,k):\n",
    "        i=self.h(k)\n",
    "        return self.T[i].find(k)"
   ]
  },
  {
   "cell_type": "code",
   "execution_count": 95,
   "metadata": {},
   "outputs": [
    {
     "name": "stdout",
     "output_type": "stream",
     "text": [
      "Duplicated Insert.\n",
      "<<0>>,<<1,102>>,<<>>,<<>>,<<>>,<<>>,<<>>,<<>>,<<>>,<<>>,<<>>,<<>>,<<>>,<<>>,<<>>,<<>>,<<>>,<<>>,<<>>,<<>>,<<>>,<<>>,<<>>,<<>>,<<>>,<<>>,<<>>,<<>>,<<>>,<<>>,<<>>,<<>>,<<>>,<<>>,<<>>,<<>>,<<>>,<<>>,<<>>,<<>>,<<>>,<<>>,<<>>,<<>>,<<>>,<<>>,<<>>,<<>>,<<>>,<<>>,<<50>>,<<>>,<<>>,<<>>,<<>>,<<>>,<<>>,<<>>,<<>>,<<>>,<<>>,<<>>,<<>>,<<>>,<<>>,<<>>,<<>>,<<>>,<<>>,<<>>,<<>>,<<>>,<<>>,<<>>,<<>>,<<>>,<<>>,<<>>,<<>>,<<>>,<<>>,<<>>,<<>>,<<>>,<<>>,<<>>,<<>>,<<>>,<<>>,<<>>,<<>>,<<>>,<<>>,<<>>,<<>>,<<>>,<<>>,<<>>,<<>>,<<>>,<<>>\n",
      "False\n",
      "True\n"
     ]
    }
   ],
   "source": [
    "ht= HashTable()\n",
    "ht.insert(0)\n",
    "ht.insert(1)\n",
    "ht.insert(0)\n",
    "ht.insert(50)\n",
    "ht.insert(102)\n",
    "print(\",\".join(map(str,ht.T)))\n",
    "\n",
    "print(ht.find(3))\n",
    "\n",
    "print(ht.find(102))"
   ]
  },
  {
   "cell_type": "markdown",
   "metadata": {},
   "source": [
    "## Tree"
   ]
  },
  {
   "cell_type": "markdown",
   "metadata": {},
   "source": [
    "### Tree Application-File System Tree"
   ]
  },
  {
   "cell_type": "code",
   "execution_count": 98,
   "metadata": {},
   "outputs": [],
   "source": [
    "class FileSystemTree:\n",
    "    class Node:\n",
    "        def __init__(self,name,type='dir'):\n",
    "            self.name=name\n",
    "            self.type= type\n",
    "            self.children=[]\n",
    "            self.parent= None\n",
    "        def __repr__(self):\n",
    "        return self.name\n",
    "    \n",
    "\n",
    "    def __init__(self):\n",
    "        self.root = self.Node('/')\n",
    "        self.now = self.root\n",
    "    \n",
    "    def mkdir(self,name):\n",
    "        #Name ends with /\n",
    "        if name[-1] !='/':\n",
    "            name += '/'\n",
    "        \n",
    "        node= self.Node(name)\n",
    "        self.now.children.append(node)\n",
    "        node.parent = self.now\n",
    "        \n",
    "    def ls(self):\n",
    "        #Show all catalogues under the current catalogue\n",
    "        return self.now.children\n",
    "    \n",
    "    def cd(self,name):\n",
    "        #Toggle\n",
    "        if name[-1] !='/':\n",
    "            name+='/'\n",
    "        \n",
    "        #Back to previous level of the catalogue\n",
    "        if name == '../':\n",
    "            self.now=self.now.parent\n",
    "            return\n",
    "            \n",
    "        for child in self.now.children:\n",
    "            if child.name == name:\n",
    "                self.now = child\n",
    "                return\n",
    "                \n",
    "        raise ValueError(\"invalid dir\")"
   ]
  },
  {
   "cell_type": "code",
   "execution_count": 99,
   "metadata": {},
   "outputs": [
    {
     "name": "stdout",
     "output_type": "stream",
     "text": [
      "[var/, bin/, usr/]\n",
      "[var/, bin/, usr/]\n",
      "bin/\n",
      "/\n"
     ]
    }
   ],
   "source": [
    "tree = FileSystemTree() \n",
    "tree.mkdir('var')\n",
    "tree.mkdir('bin')\n",
    "tree.mkdir('usr/')\n",
    "print(tree.root.children)\n",
    "print(tree.ls())\n",
    "tree.cd(\"bin\")\n",
    "print(tree.now)\n",
    "tree.cd('../')\n",
    "print(tree.now)\n",
    "        "
   ]
  },
  {
   "cell_type": "markdown",
   "metadata": {},
   "source": [
    "### Binary Tree"
   ]
  },
  {
   "cell_type": "code",
   "execution_count": 81,
   "metadata": {},
   "outputs": [],
   "source": [
    "#Binary Tree\n",
    "class biTreeNode:\n",
    "    def __init__(self,data):\n",
    "        self.data=data\n",
    "        self.lchild = None\n",
    "        self.rchild = None"
   ]
  },
  {
   "cell_type": "code",
   "execution_count": 82,
   "metadata": {},
   "outputs": [
    {
     "name": "stdout",
     "output_type": "stream",
     "text": [
      "C\n"
     ]
    }
   ],
   "source": [
    "a=biTreeNode('A')    \n",
    "b=biTreeNode('B')    \n",
    "c=biTreeNode('C')    \n",
    "d=biTreeNode('D')    \n",
    "e=biTreeNode('E')    \n",
    "f=biTreeNode('F')    \n",
    "g=biTreeNode('G')  \n",
    "\n",
    "\n",
    "e.lchild=a\n",
    "e.rchild=g\n",
    "\n",
    "a.rchild=c\n",
    "c.lchild=b\n",
    "c.rchild=d\n",
    "g.rchild=f\n",
    "\n",
    "root=e\n",
    "print(root.lchild.rchild.data)"
   ]
  },
  {
   "cell_type": "code",
   "execution_count": 83,
   "metadata": {},
   "outputs": [],
   "source": [
    "#traverse binary tree \n",
    "#Preorder traversal \n",
    "def pre_order(root):\n",
    "    if root:\n",
    "        print(root.data,end=',')\n",
    "        pre_order(root.lchild)\n",
    "        pre_order(root.rchild)\n",
    "\n",
    "#Inorder traversal \n",
    "def in_order(root):\n",
    "    if root:\n",
    "        in_order(root.lchild)\n",
    "        print(root.data,end=',')\n",
    "        in_order(root.rchild)\n",
    "        \n",
    "#Postorder traversal \n",
    "def post_order(root):\n",
    "    if root:\n",
    "        post_order(root.lchild)\n",
    "        post_order(root.rchild)\n",
    "        print(root.data, end=',')"
   ]
  },
  {
   "cell_type": "code",
   "execution_count": 92,
   "metadata": {},
   "outputs": [
    {
     "name": "stdout",
     "output_type": "stream",
     "text": [
      "E,A,C,B,D,G,F,\r\n",
      "A,B,C,D,E,G,F,\r\n",
      "B,D,C,A,F,G,E,"
     ]
    }
   ],
   "source": [
    "pre_order(e)\n",
    "print('\\r')\n",
    "in_order(e)\n",
    "print('\\r')\n",
    "post_order(e)"
   ]
  },
  {
   "cell_type": "markdown",
   "metadata": {},
   "source": [
    "## Graph"
   ]
  },
  {
   "cell_type": "code",
   "execution_count": 127,
   "metadata": {},
   "outputs": [],
   "source": [
    "#graph contains a master table of all vertices\n",
    "class Graph:\n",
    "    #vertex contains vertex information, as well as information about the edges connected to the vertex\n",
    "    class Vertex:\n",
    "        def __init__(self,key):\n",
    "            self.id = key\n",
    "            self.connectedTo= {}\n",
    "\n",
    "        def addNeighbor(self,nbr,weight=0):\n",
    "            self.connectedTo[nbr] = weight\n",
    "\n",
    "        def __str__(self):\n",
    "            return str(self.id) +' connectedTo:'+str([x.id for x in self.connectedTo])\n",
    "\n",
    "        def getConnections(self):\n",
    "            return self.connectedTo.keys()\n",
    "\n",
    "        def getId(self):\n",
    "            return self.id\n",
    "\n",
    "        def getWieght(self,nbr):\n",
    "            return self.connectedTo[nbr]\n",
    "\n",
    "    def __init__(self):\n",
    "        self.vertList = {}\n",
    "        self.numVertices = 0\n",
    "        \n",
    "    def addVertex(self,key):\n",
    "        self.numVertices = self.numVertices+1\n",
    "        newVertex = self.Vertex(key)\n",
    "        self.vertList[key] = newVertex\n",
    "        return newVertex\n",
    "    \n",
    "    def getVertex(self,n):\n",
    "        if n in self.vertList:\n",
    "            return self.vertList[n]\n",
    "        else:\n",
    "            return None\n",
    "        \n",
    "    def __contains__(self,n):\n",
    "        return n in self.vertList\n",
    "    \n",
    "    def addEdge(self,f,t,cost=0):\n",
    "        if f not in self.vertList:\n",
    "            nv_1 = self.addVertex(f)\n",
    "        if t not in self.vertList:\n",
    "            nv_2 = self.addVertex(t)\n",
    "        self.vertList[f].addNeighbor(self.vertList[t],cost)\n",
    "        self.vertList[t].addNeighbor(self.vertList[f],cost)\n",
    "        \n",
    "    def getVertices(self):\n",
    "        return self.vertList.keys()\n",
    "    \n",
    "    def __iter__(self):\n",
    "        return iter(self.vertList.values())"
   ]
  },
  {
   "cell_type": "code",
   "execution_count": 139,
   "metadata": {},
   "outputs": [
    {
     "name": "stdout",
     "output_type": "stream",
     "text": [
      "dict_keys(['A', 'B', 'C', 'D', 'F', 'E'])\n",
      "A connectedTo:['B', 'D']\n",
      "B connectedTo:['A', 'C', 'F']\n",
      "C connectedTo:['B', 'D', 'E']\n",
      "D connectedTo:['A', 'C']\n",
      "E connectedTo:['C', 'F']\n",
      "F connectedTo:['B', 'E']\n"
     ]
    }
   ],
   "source": [
    "g = Graph()\n",
    "a=g.addVertex('A')\n",
    "b=g.addVertex('B')\n",
    "c=g.addVertex('C')\n",
    "d=g.addVertex('D')\n",
    "\n",
    "\n",
    "g.addEdge('A','B',0.5)\n",
    "g.addEdge('A','D',0.5)\n",
    "g.addEdge('C','B',0.5)\n",
    "g.addEdge('D','C',0.5)\n",
    "g.addEdge('F','B',0.5)\n",
    "g.addEdge('C','E',0.5)\n",
    "g.addEdge('F','E',0.5)\n",
    "\n",
    "print(g.getVertices())\n",
    "\n",
    "print(a)\n",
    "print(b)\n",
    "print(c)\n",
    "print(d)\n",
    "print(g.vertList['E'])\n",
    "print(g.vertList['F'])\n"
   ]
  }
 ],
 "metadata": {
  "kernelspec": {
   "display_name": "Python 3",
   "language": "python",
   "name": "python3"
  },
  "language_info": {
   "codemirror_mode": {
    "name": "ipython",
    "version": 3
   },
   "file_extension": ".py",
   "mimetype": "text/x-python",
   "name": "python",
   "nbconvert_exporter": "python",
   "pygments_lexer": "ipython3",
   "version": "3.7.0"
  }
 },
 "nbformat": 4,
 "nbformat_minor": 2
}
