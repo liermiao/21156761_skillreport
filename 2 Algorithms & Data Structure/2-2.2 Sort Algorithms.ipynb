{
 "cells": [
  {
   "cell_type": "markdown",
   "metadata": {},
   "source": [
    "## Bubble Sort"
   ]
  },
  {
   "cell_type": "code",
   "execution_count": 21,
   "metadata": {},
   "outputs": [],
   "source": [
    "def bubbleSort(li):\n",
    "    for i in range(len(li)-1):\n",
    "        #If no exchange has occurred on this trip, the sorting is completed early\n",
    "        exchange=False\n",
    "        for j in range(len(li)-i-1):  #Pointer position\n",
    "            if li[j]>li[j+1]:\n",
    "                li[j],li[j+1]=li[j+1],li[j]\n",
    "                exchange=True\n",
    "        if not exchange:\n",
    "            return\n",
    "    print(li)\n",
    "            "
   ]
  },
  {
   "cell_type": "code",
   "execution_count": 22,
   "metadata": {},
   "outputs": [
    {
     "name": "stdout",
     "output_type": "stream",
     "text": [
      "[2, 20, 45, 50, 56, 58, 70, 80, 90, 90, 120]\n"
     ]
    }
   ],
   "source": [
    "list_b=[20,58,70,50,90,56,45,2,80,90,120]\n",
    "bubbleSort(list_b)\n",
    "print(list_b)"
   ]
  },
  {
   "cell_type": "markdown",
   "metadata": {},
   "source": [
    "## Selection Sort"
   ]
  },
  {
   "cell_type": "code",
   "execution_count": 53,
   "metadata": {},
   "outputs": [],
   "source": [
    "def selectionSort(li):\n",
    "    for i in range(len(li)-1):\n",
    "        min_pos = i\n",
    "        for j in range(i+1,len(li)):\n",
    "            if li[j]<li[min_pos]:\n",
    "                min_pos = j\n",
    "            li[i],li[min_pos] = li[min_pos],li[i]\n"
   ]
  },
  {
   "cell_type": "code",
   "execution_count": 54,
   "metadata": {},
   "outputs": [
    {
     "name": "stdout",
     "output_type": "stream",
     "text": [
      "[5, 9, 20, 34, 45, 50, 56, 58, 80, 90, 120]\n"
     ]
    }
   ],
   "source": [
    "list_s=[20,34,50,9,56,45,5,80,90,120,58]\n",
    "selectionSort(list_s)\n",
    "print(list_s)"
   ]
  },
  {
   "cell_type": "markdown",
   "metadata": {},
   "source": [
    "## Insertion Sort"
   ]
  },
  {
   "cell_type": "code",
   "execution_count": 11,
   "metadata": {},
   "outputs": [],
   "source": [
    "def insertionSort(li):\n",
    "    for i in range(1,len(li)):\n",
    "        curvalue = li[i]\n",
    "        position = i\n",
    "        \n",
    "        while position>0 and li[position-1]>curvalue:\n",
    "            li[position] = li[position-1]\n",
    "            position = position-1\n",
    "        li[position] = curvalue"
   ]
  },
  {
   "cell_type": "code",
   "execution_count": 12,
   "metadata": {},
   "outputs": [
    {
     "name": "stdout",
     "output_type": "stream",
     "text": [
      "[2, 20, 45, 50, 56, 58, 70, 80, 90, 97, 120]\n"
     ]
    }
   ],
   "source": [
    "list_i=[20,58,70,50,97,56,45,2,80,90,120]\n",
    "insertionSort(list_i)\n",
    "print(list_i)"
   ]
  },
  {
   "cell_type": "markdown",
   "metadata": {},
   "source": [
    "## Quick sort"
   ]
  },
  {
   "cell_type": "code",
   "execution_count": 20,
   "metadata": {},
   "outputs": [],
   "source": [
    "def partition(li,left,right):\n",
    "    temp = li[left]\n",
    "    while left<right:\n",
    "        #find number<data from right and put the pointer in its position\n",
    "        while left<right and li[right] >=temp:\n",
    "            right -=1\n",
    "        #put the number on the left of data\n",
    "        li[left]=li[right]\n",
    "\n",
    "        #find number>data from right and put the pointer in its position\n",
    "        while left<right and li[left] <= temp:\n",
    "            left += 1 \n",
    "        #put the number on the left of data\n",
    "        li[right] = li[left]\n",
    "        \n",
    "    li[left] = temp    #put the data in the middle \n",
    "    return left\n",
    "    \n",
    "def quickSort(data,left,right):\n",
    "    if left<right:\n",
    "        mid = partition(data,left,right)\n",
    "        quickSort(data,left,mid-1)\n",
    "        quickSort(data,mid+1,right)"
   ]
  },
  {
   "cell_type": "code",
   "execution_count": 21,
   "metadata": {},
   "outputs": [
    {
     "name": "stdout",
     "output_type": "stream",
     "text": [
      "[2, 20, 45, 50, 56, 58, 70, 80, 90, 97, 120]\n"
     ]
    }
   ],
   "source": [
    "list_q=[20,58,70,50,97,56,45,2,80,90,120]\n",
    "quickSort(list_q,0,len(list_q)-1)\n",
    "print(list_q)"
   ]
  },
  {
   "cell_type": "markdown",
   "metadata": {},
   "source": [
    "## Merge sort"
   ]
  },
  {
   "cell_type": "code",
   "execution_count": 26,
   "metadata": {},
   "outputs": [],
   "source": [
    "def merge(li, low, mid, high):\n",
    "    i = low\n",
    "    j = mid+1\n",
    "    ltemp = []\n",
    "    while i <=mid and j <= high:   #both left and right sides have numbers\n",
    "        if li[i] < li[j]:\n",
    "            ltemp.append(li[i])\n",
    "            i += 1\n",
    "        else:\n",
    "            ltemp.append(li[j])\n",
    "            j += 1\n",
    "    #while execution is complete, one side must be partially empty\n",
    "    while i <= mid:\n",
    "        ltemp.append(li[i])\n",
    "        i += 1\n",
    "    while j <= high:\n",
    "        ltemp.append(li[j])\n",
    "        j += 1\n",
    "    li[low:high+1] = ltemp\n",
    "    \n",
    "def mergeSort(li, low, high):\n",
    "    if low < high:\n",
    "        mid = (low+high)//2\n",
    "        mergeSort(li,low,mid)\n",
    "        mergeSort(li,mid+1,high)\n",
    "        merge(li,low,mid,high)"
   ]
  },
  {
   "cell_type": "code",
   "execution_count": 27,
   "metadata": {},
   "outputs": [
    {
     "name": "stdout",
     "output_type": "stream",
     "text": [
      "[2, 20, 45, 50, 56, 58, 70, 80, 90, 97, 120]\n"
     ]
    }
   ],
   "source": [
    "list_m=[20,58,70,50,97,56,45,2,80,90,120]\n",
    "mergeSort(list_m, 0, len(list_m)-1)\n",
    "print(list_m)"
   ]
  }
 ],
 "metadata": {
  "kernelspec": {
   "display_name": "Python 3",
   "language": "python",
   "name": "python3"
  },
  "language_info": {
   "codemirror_mode": {
    "name": "ipython",
    "version": 3
   },
   "file_extension": ".py",
   "mimetype": "text/x-python",
   "name": "python",
   "nbconvert_exporter": "python",
   "pygments_lexer": "ipython3",
   "version": "3.7.0"
  }
 },
 "nbformat": 4,
 "nbformat_minor": 2
}
