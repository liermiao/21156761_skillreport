{
 "cells": [
  {
   "cell_type": "markdown",
   "metadata": {},
   "source": [
    "## Linear Search"
   ]
  },
  {
   "cell_type": "code",
   "execution_count": 20,
   "metadata": {},
   "outputs": [],
   "source": [
    "def linear_search(li, val):\n",
    "    for i in range(len(li)):\n",
    "        if li[i] == val:\n",
    "            return i\n",
    "    return None"
   ]
  },
  {
   "cell_type": "code",
   "execution_count": 26,
   "metadata": {},
   "outputs": [
    {
     "name": "stdout",
     "output_type": "stream",
     "text": [
      "9\n",
      "None\n"
     ]
    }
   ],
   "source": [
    "li=[80,59,8,14,63,3,47,37,50,1,75,79,8]\n",
    "val_1=1\n",
    "print(linear_search(li,val_1))\n",
    "val_2=10\n",
    "print(linear_search(li,val_2))"
   ]
  },
  {
   "cell_type": "markdown",
   "metadata": {},
   "source": [
    "## Binary Search"
   ]
  },
  {
   "cell_type": "code",
   "execution_count": 27,
   "metadata": {},
   "outputs": [],
   "source": [
    "#Used to search in an ordered list\n",
    "def binary_search(li,val):   #list:the list to be found; val:the value to be found\n",
    "    li_s = sort\n",
    "    right=len(li)-1\n",
    "    left=0\n",
    "    \n",
    "    while right>=left:   #Candidate areas have values\n",
    "        mid=(left+right)//2\n",
    "        if li[mid]==val:\n",
    "            return mid\n",
    "        elif li[mid]<val:\n",
    "            left=mid+1\n",
    "        else:\n",
    "            right=mid-1\n",
    "            \n",
    "    else:\n",
    "        return None"
   ]
  },
  {
   "cell_type": "code",
   "execution_count": 24,
   "metadata": {},
   "outputs": [
    {
     "name": "stdout",
     "output_type": "stream",
     "text": [
      "4\n"
     ]
    }
   ],
   "source": [
    "li=[1,4,8,14,28,34,35,37,50,56,75,79,80]\n",
    "val=28\n",
    "print(binary_search(li,val))"
   ]
  },
  {
   "cell_type": "markdown",
   "metadata": {},
   "source": [
    "## Binary Search Tree"
   ]
  },
  {
   "cell_type": "code",
   "execution_count": 35,
   "metadata": {},
   "outputs": [],
   "source": [
    "class BSTNode:\n",
    "    def __init__(self,data):\n",
    "        self.data = data\n",
    "        self.lchild = None\n",
    "        self.rchild = None\n",
    "        self.parent = None\n",
    "        \n",
    "class BST:\n",
    "    def __init__(self, li=None):\n",
    "        self.root = None\n",
    "        if li:\n",
    "            for val in li:\n",
    "                self.insert(val)\n",
    "    \n",
    "    def insert(self,val):\n",
    "        p= self.root\n",
    "        if not p:\n",
    "            self.root =BSTNode(val)\n",
    "            return\n",
    "        while True:\n",
    "            if val<p.data:\n",
    "                if p.lchild:\n",
    "                    p = p.lchild\n",
    "                else:\n",
    "                    p.lchild= BSTNode(val)\n",
    "                    p.lchild.parent = p\n",
    "                    return\n",
    "            elif val>p.data:\n",
    "                if p.rchild:\n",
    "                    p = p.rchild\n",
    "                else:\n",
    "                    p.rchild = BSTNode(val)\n",
    "                    p.rchild.parent = p\n",
    "                    return\n",
    "            else:\n",
    "                return\n",
    "        \n",
    "    def query(self,val):\n",
    "        p = self.root\n",
    "        while p:\n",
    "            if p.data<val:\n",
    "                p=p.rchild\n",
    "            elif p.data>val:\n",
    "                p=p.lchild\n",
    "            else:\n",
    "                return p\n",
    "            \n",
    "        return None\n"
   ]
  },
  {
   "cell_type": "code",
   "execution_count": 38,
   "metadata": {},
   "outputs": [
    {
     "name": "stdout",
     "output_type": "stream",
     "text": [
      "9\n",
      "None\n"
     ]
    }
   ],
   "source": [
    "tree=BST([4,6,7,9,2,1,3,5,8])\n",
    "print(tree.query(9).data)\n",
    "print(tree.query(10))"
   ]
  }
 ],
 "metadata": {
  "kernelspec": {
   "display_name": "Python 3",
   "language": "python",
   "name": "python3"
  },
  "language_info": {
   "codemirror_mode": {
    "name": "ipython",
    "version": 3
   },
   "file_extension": ".py",
   "mimetype": "text/x-python",
   "name": "python",
   "nbconvert_exporter": "python",
   "pygments_lexer": "ipython3",
   "version": "3.7.0"
  }
 },
 "nbformat": 4,
 "nbformat_minor": 2
}
