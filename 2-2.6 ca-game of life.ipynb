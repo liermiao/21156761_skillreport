{
 "cells": [
  {
   "cell_type": "markdown",
   "metadata": {},
   "source": [
    "This game is a simple simulation of the game of life\n",
    "\n",
    "In the initial state of the game, each pixel randomly represents a live or dead cell (depending on the given rate).\n",
    "After the game has started, each cell changes state from alive to dead or remains unchanged according to the following rules：\n",
    "\n",
    "If a cell is dead, it becomes alive after reproduction if it is surrounded by 3 living cells\n",
    "If a cell is alive and is surrounded by less than 2 viable cells, the cell becomes dead after reproduction\n",
    "If the cell is alive and is surrounded by 2 or 3 viable cells, the cell remains in the same state after reproduction\n",
    "If the cell is alive and surrounded by more than 3 viable cells, the cell becomes dead after reproduction\n",
    "\n"
   ]
  },
  {
   "cell_type": "code",
   "execution_count": 1,
   "metadata": {},
   "outputs": [
    {
     "name": "stdout",
     "output_type": "stream",
     "text": [
      "pygame 2.1.2 (SDL 2.0.18, Python 3.7.0)\n",
      "Hello from the pygame community. https://www.pygame.org/contribute.html\n"
     ]
    }
   ],
   "source": [
    "import pygame as pg\n",
    "import sys\n",
    "import random\n",
    "import time\n"
   ]
  },
  {
   "cell_type": "code",
   "execution_count": 2,
   "metadata": {},
   "outputs": [],
   "source": [
    "#environment setting\n",
    "screen_width=300\n",
    "screen_height=300\n",
    "screen_bgr=(255,255,255)\n",
    "\n",
    "live_color=(0,0,0)\n",
    "dead_color=(255,255,255)"
   ]
  },
  {
   "cell_type": "code",
   "execution_count": 3,
   "metadata": {},
   "outputs": [],
   "source": [
    "#initialize the game\n",
    "def initialize_game(init_live_rate):\n",
    "    for i in range(0,screen_width):\n",
    "        for j in range(0,screen_height):\n",
    "            stage=random.random()\n",
    "            if stage<init_live_rate:\n",
    "                pg.draw.rect(screen,live_color,(i,j,1,1))\n",
    "            else:\n",
    "                pg.draw.rect(screen,dead_color,(i,j,1,1))\n",
    "    return False\n"
   ]
  },
  {
   "cell_type": "code",
   "execution_count": 4,
   "metadata": {},
   "outputs": [],
   "source": [
    "#return amout of neighbors \n",
    "def get_neighbor_num(x,y):\n",
    "    n=0\n",
    "    neighbors=[(x+1,y+1),(x+1,y),(x+1,y-1),(x,y+1),(x,y-1),(x-1,y-1),(x-1,y),(x-1,y+1)]\n",
    "    for neighbor in neighbors:\n",
    "        color_n=screen.get_at(neighbor)\n",
    "        if color_n==live_color:\n",
    "            n+=1\n",
    "    return n\n",
    "            \n",
    "    \n",
    "    "
   ]
  },
  {
   "cell_type": "code",
   "execution_count": 5,
   "metadata": {},
   "outputs": [],
   "source": [
    "#define rules of generating next generation  \n",
    "def newgeneration():\n",
    "    for x_sel in range(1,screen_width-1):\n",
    "        for y_sel in range(1,screen_height-1):\n",
    "            num_n=get_neighbor_num(x_sel,y_sel)\n",
    "            color_i=screen.get_at((x_sel,y_sel))\n",
    "            if color_i==dead_color:\n",
    "                if num_n==3:\n",
    "                    pg.draw.rect(screen,live_color,(x_sel,y_sel,1,1))\n",
    "            else:               \n",
    "                if num_n<2 or num_n>3:\n",
    "                    pg.draw.rect(screen,dead_color,(x_sel,y_sel,1,1))\n",
    "    "
   ]
  },
  {
   "cell_type": "code",
   "execution_count": 6,
   "metadata": {},
   "outputs": [
    {
     "ename": "SystemExit",
     "evalue": "",
     "output_type": "error",
     "traceback": [
      "An exception has occurred, use %tb to see the full traceback.\n",
      "\u001b[1;31mSystemExit\u001b[0m\n"
     ]
    },
    {
     "name": "stderr",
     "output_type": "stream",
     "text": [
      "D:\\anaconda\\lib\\site-packages\\IPython\\core\\interactiveshell.py:2969: UserWarning: To exit: use 'exit', 'quit', or Ctrl-D.\n",
      "  warn(\"To exit: use 'exit', 'quit', or Ctrl-D.\", stacklevel=1)\n"
     ]
    }
   ],
   "source": [
    "#main operation \n",
    "pg.init()\n",
    "pg.display.set_caption('game of life')\n",
    "screen=pg.display.set_mode((screen_width,screen_height))\n",
    "screen.fill(pg.Color(\"White\"))\n",
    "clock=pg.time.Clock()\n",
    "clock.tick(5)\n",
    "initialize_game(0.1)\n",
    "\n",
    "while True:\n",
    "    events=pg.event.get()\n",
    "    for event in events:\n",
    "        if event.type==pg.QUIT:\n",
    "            pg.quit()\n",
    "            sys.exit()\n",
    "        elif event.type==pg.KEYDOWN:\n",
    "            if event.key==pg.K_ESCAPE:\n",
    "                pg.quit()\n",
    "                sys.exit()\n",
    "    newgeneration()\n",
    "    pg.display.update()"
   ]
  }
 ],
 "metadata": {
  "kernelspec": {
   "display_name": "Python 3",
   "language": "python",
   "name": "python3"
  },
  "language_info": {
   "codemirror_mode": {
    "name": "ipython",
    "version": 3
   },
   "file_extension": ".py",
   "mimetype": "text/x-python",
   "name": "python",
   "nbconvert_exporter": "python",
   "pygments_lexer": "ipython3",
   "version": "3.7.0"
  }
 },
 "nbformat": 4,
 "nbformat_minor": 2
}
