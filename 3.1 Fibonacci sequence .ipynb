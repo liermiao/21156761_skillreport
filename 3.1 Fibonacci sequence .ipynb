{
 "cells": [
  {
   "cell_type": "markdown",
   "metadata": {},
   "source": [
    "Fibonacci sequence \n"
   ]
  },
  {
   "cell_type": "code",
   "execution_count": 12,
   "metadata": {},
   "outputs": [
    {
     "name": "stdout",
     "output_type": "stream",
     "text": [
      "1\n",
      "1\n",
      "2\n",
      "3\n",
      "5\n",
      "8\n",
      "13\n",
      "21\n",
      "34\n",
      "55\n"
     ]
    }
   ],
   "source": [
    "def fibonacci(n):\n",
    "    n1=1\n",
    "    n2=1\n",
    "    i=2\n",
    "    if n== 1:\n",
    "        print(n1)\n",
    "    elif n== 2:\n",
    "        print(n2)\n",
    "    elif n>3:\n",
    "        print(n1)\n",
    "        print(n2)\n",
    "        while i<n:\n",
    "            a=n1+n2\n",
    "            n1=n2\n",
    "            n2=a\n",
    "            i+=1\n",
    "            print(n2)\n",
    "            \n",
    "            \n",
    "\n",
    "\n",
    "fibonacci(10)      \n",
    "\n"
   ]
  },
  {
   "cell_type": "markdown",
   "metadata": {},
   "source": [
    "## Pseudocode \n",
    "\n",
    " 1: Start \n",
    " \n",
    " 2: Declare variable a, b, c, n, i\n",
    " \n",
    " 3: Initialize variable a=0, b=1 and  i=2 \n",
    " \n",
    " 4: Read n from user \n",
    " \n",
    " 5: Print a and b \n",
    " \n",
    " 6: Repeat until i<=n : \n",
    " \n",
    "         6.1: c=a+b \n",
    "          \n",
    "         6.2: print c \n",
    "          \n",
    "         6.3: a=b, b=c \n",
    "          \n",
    "         6.4: i=i+1 \n",
    "          \n",
    " 7: Stop"
   ]
  }
 ],
 "metadata": {
  "kernelspec": {
   "display_name": "Python 3",
   "language": "python",
   "name": "python3"
  },
  "language_info": {
   "codemirror_mode": {
    "name": "ipython",
    "version": 3
   },
   "file_extension": ".py",
   "mimetype": "text/x-python",
   "name": "python",
   "nbconvert_exporter": "python",
   "pygments_lexer": "ipython3",
   "version": "3.7.0"
  }
 },
 "nbformat": 4,
 "nbformat_minor": 2
}
